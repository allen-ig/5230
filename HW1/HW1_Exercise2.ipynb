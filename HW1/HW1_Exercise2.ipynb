{
 "cells": [
  {
   "cell_type": "markdown",
   "metadata": {},
   "source": [
    "# Excercise 2"
   ]
  },
  {
   "cell_type": "markdown",
   "metadata": {},
   "source": [
    "## Problem 1"
   ]
  },
  {
   "cell_type": "markdown",
   "metadata": {},
   "source": [
    "### Part a"
   ]
  },
  {
   "cell_type": "markdown",
   "metadata": {},
   "source": [
    "My first instinct here is to use the method `read_csv()` in `pandas` to read in the dataset and do further data analysis using `DataFrame`. So I import `pandas`, `re` and `numpy` and read the dataset. Also I split different lines according to different types of data by regex. "
   ]
  },
  {
   "cell_type": "code",
   "execution_count": 2,
   "metadata": {},
   "outputs": [],
   "source": [
    "import pandas as pd\n",
    "import re\n",
    "import numpy as np\n",
    "import matplotlib.pyplot as plt"
   ]
  },
  {
   "cell_type": "code",
   "execution_count": 3,
   "metadata": {},
   "outputs": [],
   "source": [
    "df=pd.read_csv(\"q2_dataset.txt\",delimiter=\"\\t\")"
   ]
  },
  {
   "cell_type": "code",
   "execution_count": 4,
   "metadata": {},
   "outputs": [],
   "source": [
    "df.columns=['row']"
   ]
  },
  {
   "cell_type": "code",
   "execution_count": 5,
   "metadata": {},
   "outputs": [
    {
     "name": "stderr",
     "output_type": "stream",
     "text": [
      "/anaconda3/lib/python3.6/site-packages/ipykernel_launcher.py:1: UserWarning: This pattern has match groups. To actually get the groups, use str.extract.\n",
      "  \"\"\"Entry point for launching an IPython kernel.\n",
      "/anaconda3/lib/python3.6/site-packages/ipykernel_launcher.py:2: UserWarning: This pattern has match groups. To actually get the groups, use str.extract.\n",
      "  \n",
      "/anaconda3/lib/python3.6/site-packages/ipykernel_launcher.py:3: UserWarning: This pattern has match groups. To actually get the groups, use str.extract.\n",
      "  This is separate from the ipykernel package so we can avoid doing imports until\n"
     ]
    }
   ],
   "source": [
    "authors=df[df['row'].str.contains(r'^#@(.*)')]\n",
    "venues=df[df['row'].str.contains(r'^#c(.*)')]\n",
    "paper=df[df['row'].str.contains(r'^#\\*(.*)')]"
   ]
  },
  {
   "cell_type": "code",
   "execution_count": 6,
   "metadata": {},
   "outputs": [
    {
     "data": {
      "text/plain": [
       "row    1466893\n",
       "dtype: int64"
      ]
     },
     "execution_count": 6,
     "metadata": {},
     "output_type": "execute_result"
    }
   ],
   "source": [
    "authors.nunique()"
   ]
  },
  {
   "cell_type": "code",
   "execution_count": 7,
   "metadata": {},
   "outputs": [
    {
     "data": {
      "text/plain": [
       "row    255686\n",
       "dtype: int64"
      ]
     },
     "execution_count": 7,
     "metadata": {},
     "output_type": "execute_result"
    }
   ],
   "source": [
    "venues.nunique()"
   ]
  },
  {
   "cell_type": "code",
   "execution_count": 8,
   "metadata": {},
   "outputs": [
    {
     "data": {
      "text/plain": [
       "row    1929487\n",
       "dtype: int64"
      ]
     },
     "execution_count": 8,
     "metadata": {},
     "output_type": "execute_result"
    }
   ],
   "source": [
    "paper.nunique()"
   ]
  },
  {
   "cell_type": "markdown",
   "metadata": {},
   "source": [
    "### Part b"
   ]
  },
  {
   "cell_type": "markdown",
   "metadata": {},
   "source": [
    "If we directly see the unique values in each dataframe, there is indeed a number of authors, venues and publications. However, if we look into the dataset in details, we are going to find that there are some features of the dataset that might compromise the result. For example, let's try venue of *Principles and Practice of Knowledge Discovery in Databases* as in the instructions. "
   ]
  },
  {
   "cell_type": "code",
   "execution_count": 9,
   "metadata": {},
   "outputs": [
    {
     "data": {
      "text/html": [
       "<div>\n",
       "<style scoped>\n",
       "    .dataframe tbody tr th:only-of-type {\n",
       "        vertical-align: middle;\n",
       "    }\n",
       "\n",
       "    .dataframe tbody tr th {\n",
       "        vertical-align: top;\n",
       "    }\n",
       "\n",
       "    .dataframe thead th {\n",
       "        text-align: right;\n",
       "    }\n",
       "</style>\n",
       "<table border=\"1\" class=\"dataframe\">\n",
       "  <thead>\n",
       "    <tr style=\"text-align: right;\">\n",
       "      <th></th>\n",
       "      <th>row</th>\n",
       "    </tr>\n",
       "  </thead>\n",
       "  <tbody>\n",
       "    <tr>\n",
       "      <th>5712159</th>\n",
       "      <td>#c PKDD '04 Proceedings of the 8th European Co...</td>\n",
       "    </tr>\n",
       "    <tr>\n",
       "      <th>5714276</th>\n",
       "      <td>#c PKDD '04 Proceedings of the 8th European Co...</td>\n",
       "    </tr>\n",
       "    <tr>\n",
       "      <th>5714281</th>\n",
       "      <td>#c PKDD '04 Proceedings of the 8th European Co...</td>\n",
       "    </tr>\n",
       "    <tr>\n",
       "      <th>5714286</th>\n",
       "      <td>#c PKDD '04 Proceedings of the 8th European Co...</td>\n",
       "    </tr>\n",
       "    <tr>\n",
       "      <th>5714291</th>\n",
       "      <td>#c PKDD '04 Proceedings of the 8th European Co...</td>\n",
       "    </tr>\n",
       "    <tr>\n",
       "      <th>5714296</th>\n",
       "      <td>#c PKDD '04 Proceedings of the 8th European Co...</td>\n",
       "    </tr>\n",
       "    <tr>\n",
       "      <th>5714301</th>\n",
       "      <td>#c PKDD '04 Proceedings of the 8th European Co...</td>\n",
       "    </tr>\n",
       "    <tr>\n",
       "      <th>5714306</th>\n",
       "      <td>#c PKDD '04 Proceedings of the 8th European Co...</td>\n",
       "    </tr>\n",
       "    <tr>\n",
       "      <th>5714311</th>\n",
       "      <td>#c PKDD '04 Proceedings of the 8th European Co...</td>\n",
       "    </tr>\n",
       "    <tr>\n",
       "      <th>5714316</th>\n",
       "      <td>#c PKDD '04 Proceedings of the 8th European Co...</td>\n",
       "    </tr>\n",
       "    <tr>\n",
       "      <th>5714321</th>\n",
       "      <td>#c PKDD '04 Proceedings of the 8th European Co...</td>\n",
       "    </tr>\n",
       "    <tr>\n",
       "      <th>5714326</th>\n",
       "      <td>#c PKDD '04 Proceedings of the 8th European Co...</td>\n",
       "    </tr>\n",
       "    <tr>\n",
       "      <th>5714331</th>\n",
       "      <td>#c PKDD '04 Proceedings of the 8th European Co...</td>\n",
       "    </tr>\n",
       "    <tr>\n",
       "      <th>5714336</th>\n",
       "      <td>#c PKDD '04 Proceedings of the 8th European Co...</td>\n",
       "    </tr>\n",
       "    <tr>\n",
       "      <th>5714341</th>\n",
       "      <td>#c PKDD '04 Proceedings of the 8th European Co...</td>\n",
       "    </tr>\n",
       "    <tr>\n",
       "      <th>5714346</th>\n",
       "      <td>#c PKDD '04 Proceedings of the 8th European Co...</td>\n",
       "    </tr>\n",
       "    <tr>\n",
       "      <th>5714351</th>\n",
       "      <td>#c PKDD '04 Proceedings of the 8th European Co...</td>\n",
       "    </tr>\n",
       "    <tr>\n",
       "      <th>5714356</th>\n",
       "      <td>#c PKDD '04 Proceedings of the 8th European Co...</td>\n",
       "    </tr>\n",
       "    <tr>\n",
       "      <th>5714361</th>\n",
       "      <td>#c PKDD '04 Proceedings of the 8th European Co...</td>\n",
       "    </tr>\n",
       "    <tr>\n",
       "      <th>5714366</th>\n",
       "      <td>#c PKDD '04 Proceedings of the 8th European Co...</td>\n",
       "    </tr>\n",
       "    <tr>\n",
       "      <th>5714371</th>\n",
       "      <td>#c PKDD '04 Proceedings of the 8th European Co...</td>\n",
       "    </tr>\n",
       "    <tr>\n",
       "      <th>5714376</th>\n",
       "      <td>#c PKDD '04 Proceedings of the 8th European Co...</td>\n",
       "    </tr>\n",
       "    <tr>\n",
       "      <th>5714381</th>\n",
       "      <td>#c PKDD '04 Proceedings of the 8th European Co...</td>\n",
       "    </tr>\n",
       "    <tr>\n",
       "      <th>5714386</th>\n",
       "      <td>#c PKDD '04 Proceedings of the 8th European Co...</td>\n",
       "    </tr>\n",
       "    <tr>\n",
       "      <th>5714391</th>\n",
       "      <td>#c PKDD '04 Proceedings of the 8th European Co...</td>\n",
       "    </tr>\n",
       "    <tr>\n",
       "      <th>5714396</th>\n",
       "      <td>#c PKDD '04 Proceedings of the 8th European Co...</td>\n",
       "    </tr>\n",
       "    <tr>\n",
       "      <th>5714401</th>\n",
       "      <td>#c PKDD '04 Proceedings of the 8th European Co...</td>\n",
       "    </tr>\n",
       "    <tr>\n",
       "      <th>5714406</th>\n",
       "      <td>#c PKDD '04 Proceedings of the 8th European Co...</td>\n",
       "    </tr>\n",
       "    <tr>\n",
       "      <th>5714411</th>\n",
       "      <td>#c PKDD '04 Proceedings of the 8th European Co...</td>\n",
       "    </tr>\n",
       "    <tr>\n",
       "      <th>5714416</th>\n",
       "      <td>#c PKDD '04 Proceedings of the 8th European Co...</td>\n",
       "    </tr>\n",
       "    <tr>\n",
       "      <th>...</th>\n",
       "      <td>...</td>\n",
       "    </tr>\n",
       "    <tr>\n",
       "      <th>14295139</th>\n",
       "      <td>#c PKDD'05 Proceedings of the 9th European con...</td>\n",
       "    </tr>\n",
       "    <tr>\n",
       "      <th>14295147</th>\n",
       "      <td>#c PKDD'05 Proceedings of the 9th European con...</td>\n",
       "    </tr>\n",
       "    <tr>\n",
       "      <th>14295159</th>\n",
       "      <td>#c PKDD'05 Proceedings of the 9th European con...</td>\n",
       "    </tr>\n",
       "    <tr>\n",
       "      <th>14295169</th>\n",
       "      <td>#c PKDD'05 Proceedings of the 9th European con...</td>\n",
       "    </tr>\n",
       "    <tr>\n",
       "      <th>14295177</th>\n",
       "      <td>#c PKDD'05 Proceedings of the 9th European con...</td>\n",
       "    </tr>\n",
       "    <tr>\n",
       "      <th>14295188</th>\n",
       "      <td>#c PKDD'05 Proceedings of the 9th European con...</td>\n",
       "    </tr>\n",
       "    <tr>\n",
       "      <th>14295201</th>\n",
       "      <td>#c PKDD'05 Proceedings of the 9th European con...</td>\n",
       "    </tr>\n",
       "    <tr>\n",
       "      <th>14295208</th>\n",
       "      <td>#c PKDD'05 Proceedings of the 9th European con...</td>\n",
       "    </tr>\n",
       "    <tr>\n",
       "      <th>14295231</th>\n",
       "      <td>#c PKDD'05 Proceedings of the 9th European con...</td>\n",
       "    </tr>\n",
       "    <tr>\n",
       "      <th>14295239</th>\n",
       "      <td>#c PKDD'05 Proceedings of the 9th European con...</td>\n",
       "    </tr>\n",
       "    <tr>\n",
       "      <th>14295247</th>\n",
       "      <td>#c PKDD'05 Proceedings of the 9th European con...</td>\n",
       "    </tr>\n",
       "    <tr>\n",
       "      <th>14295254</th>\n",
       "      <td>#c PKDD'05 Proceedings of the 9th European con...</td>\n",
       "    </tr>\n",
       "    <tr>\n",
       "      <th>14295265</th>\n",
       "      <td>#c PKDD'05 Proceedings of the 9th European con...</td>\n",
       "    </tr>\n",
       "    <tr>\n",
       "      <th>14295277</th>\n",
       "      <td>#c PKDD'05 Proceedings of the 9th European con...</td>\n",
       "    </tr>\n",
       "    <tr>\n",
       "      <th>14295291</th>\n",
       "      <td>#c PKDD'05 Proceedings of the 9th European con...</td>\n",
       "    </tr>\n",
       "    <tr>\n",
       "      <th>14295302</th>\n",
       "      <td>#c PKDD'05 Proceedings of the 9th European con...</td>\n",
       "    </tr>\n",
       "    <tr>\n",
       "      <th>14295311</th>\n",
       "      <td>#c PKDD'05 Proceedings of the 9th European con...</td>\n",
       "    </tr>\n",
       "    <tr>\n",
       "      <th>14295320</th>\n",
       "      <td>#c PKDD'05 Proceedings of the 9th European con...</td>\n",
       "    </tr>\n",
       "    <tr>\n",
       "      <th>14295330</th>\n",
       "      <td>#c PKDD'05 Proceedings of the 9th European con...</td>\n",
       "    </tr>\n",
       "    <tr>\n",
       "      <th>14295342</th>\n",
       "      <td>#c PKDD'05 Proceedings of the 9th European con...</td>\n",
       "    </tr>\n",
       "    <tr>\n",
       "      <th>14295356</th>\n",
       "      <td>#c PKDD'05 Proceedings of the 9th European con...</td>\n",
       "    </tr>\n",
       "    <tr>\n",
       "      <th>14295365</th>\n",
       "      <td>#c PKDD'05 Proceedings of the 9th European con...</td>\n",
       "    </tr>\n",
       "    <tr>\n",
       "      <th>14295376</th>\n",
       "      <td>#c PKDD'05 Proceedings of the 9th European con...</td>\n",
       "    </tr>\n",
       "    <tr>\n",
       "      <th>14295390</th>\n",
       "      <td>#c PKDD'05 Proceedings of the 9th European con...</td>\n",
       "    </tr>\n",
       "    <tr>\n",
       "      <th>14295401</th>\n",
       "      <td>#c PKDD'05 Proceedings of the 9th European con...</td>\n",
       "    </tr>\n",
       "    <tr>\n",
       "      <th>14295414</th>\n",
       "      <td>#c PKDD'05 Proceedings of the 9th European con...</td>\n",
       "    </tr>\n",
       "    <tr>\n",
       "      <th>14295422</th>\n",
       "      <td>#c PKDD'05 Proceedings of the 9th European con...</td>\n",
       "    </tr>\n",
       "    <tr>\n",
       "      <th>14295436</th>\n",
       "      <td>#c PKDD'05 Proceedings of the 9th European con...</td>\n",
       "    </tr>\n",
       "    <tr>\n",
       "      <th>14295447</th>\n",
       "      <td>#c PKDD'05 Proceedings of the 9th European con...</td>\n",
       "    </tr>\n",
       "    <tr>\n",
       "      <th>14295460</th>\n",
       "      <td>#c PKDD'05 Proceedings of the 9th European con...</td>\n",
       "    </tr>\n",
       "  </tbody>\n",
       "</table>\n",
       "<p>212 rows × 1 columns</p>\n",
       "</div>"
      ],
      "text/plain": [
       "                                                        row\n",
       "5712159   #c PKDD '04 Proceedings of the 8th European Co...\n",
       "5714276   #c PKDD '04 Proceedings of the 8th European Co...\n",
       "5714281   #c PKDD '04 Proceedings of the 8th European Co...\n",
       "5714286   #c PKDD '04 Proceedings of the 8th European Co...\n",
       "5714291   #c PKDD '04 Proceedings of the 8th European Co...\n",
       "5714296   #c PKDD '04 Proceedings of the 8th European Co...\n",
       "5714301   #c PKDD '04 Proceedings of the 8th European Co...\n",
       "5714306   #c PKDD '04 Proceedings of the 8th European Co...\n",
       "5714311   #c PKDD '04 Proceedings of the 8th European Co...\n",
       "5714316   #c PKDD '04 Proceedings of the 8th European Co...\n",
       "5714321   #c PKDD '04 Proceedings of the 8th European Co...\n",
       "5714326   #c PKDD '04 Proceedings of the 8th European Co...\n",
       "5714331   #c PKDD '04 Proceedings of the 8th European Co...\n",
       "5714336   #c PKDD '04 Proceedings of the 8th European Co...\n",
       "5714341   #c PKDD '04 Proceedings of the 8th European Co...\n",
       "5714346   #c PKDD '04 Proceedings of the 8th European Co...\n",
       "5714351   #c PKDD '04 Proceedings of the 8th European Co...\n",
       "5714356   #c PKDD '04 Proceedings of the 8th European Co...\n",
       "5714361   #c PKDD '04 Proceedings of the 8th European Co...\n",
       "5714366   #c PKDD '04 Proceedings of the 8th European Co...\n",
       "5714371   #c PKDD '04 Proceedings of the 8th European Co...\n",
       "5714376   #c PKDD '04 Proceedings of the 8th European Co...\n",
       "5714381   #c PKDD '04 Proceedings of the 8th European Co...\n",
       "5714386   #c PKDD '04 Proceedings of the 8th European Co...\n",
       "5714391   #c PKDD '04 Proceedings of the 8th European Co...\n",
       "5714396   #c PKDD '04 Proceedings of the 8th European Co...\n",
       "5714401   #c PKDD '04 Proceedings of the 8th European Co...\n",
       "5714406   #c PKDD '04 Proceedings of the 8th European Co...\n",
       "5714411   #c PKDD '04 Proceedings of the 8th European Co...\n",
       "5714416   #c PKDD '04 Proceedings of the 8th European Co...\n",
       "...                                                     ...\n",
       "14295139  #c PKDD'05 Proceedings of the 9th European con...\n",
       "14295147  #c PKDD'05 Proceedings of the 9th European con...\n",
       "14295159  #c PKDD'05 Proceedings of the 9th European con...\n",
       "14295169  #c PKDD'05 Proceedings of the 9th European con...\n",
       "14295177  #c PKDD'05 Proceedings of the 9th European con...\n",
       "14295188  #c PKDD'05 Proceedings of the 9th European con...\n",
       "14295201  #c PKDD'05 Proceedings of the 9th European con...\n",
       "14295208  #c PKDD'05 Proceedings of the 9th European con...\n",
       "14295231  #c PKDD'05 Proceedings of the 9th European con...\n",
       "14295239  #c PKDD'05 Proceedings of the 9th European con...\n",
       "14295247  #c PKDD'05 Proceedings of the 9th European con...\n",
       "14295254  #c PKDD'05 Proceedings of the 9th European con...\n",
       "14295265  #c PKDD'05 Proceedings of the 9th European con...\n",
       "14295277  #c PKDD'05 Proceedings of the 9th European con...\n",
       "14295291  #c PKDD'05 Proceedings of the 9th European con...\n",
       "14295302  #c PKDD'05 Proceedings of the 9th European con...\n",
       "14295311  #c PKDD'05 Proceedings of the 9th European con...\n",
       "14295320  #c PKDD'05 Proceedings of the 9th European con...\n",
       "14295330  #c PKDD'05 Proceedings of the 9th European con...\n",
       "14295342  #c PKDD'05 Proceedings of the 9th European con...\n",
       "14295356  #c PKDD'05 Proceedings of the 9th European con...\n",
       "14295365  #c PKDD'05 Proceedings of the 9th European con...\n",
       "14295376  #c PKDD'05 Proceedings of the 9th European con...\n",
       "14295390  #c PKDD'05 Proceedings of the 9th European con...\n",
       "14295401  #c PKDD'05 Proceedings of the 9th European con...\n",
       "14295414  #c PKDD'05 Proceedings of the 9th European con...\n",
       "14295422  #c PKDD'05 Proceedings of the 9th European con...\n",
       "14295436  #c PKDD'05 Proceedings of the 9th European con...\n",
       "14295447  #c PKDD'05 Proceedings of the 9th European con...\n",
       "14295460  #c PKDD'05 Proceedings of the 9th European con...\n",
       "\n",
       "[212 rows x 1 columns]"
      ]
     },
     "execution_count": 9,
     "metadata": {},
     "output_type": "execute_result"
    }
   ],
   "source": [
    "venues[venues['row'].str.contains(r'Principles and Practice of Knowledge Discovery in Databases')]"
   ]
  },
  {
   "cell_type": "markdown",
   "metadata": {},
   "source": [
    "As we can see, there are several different venues that has the key words 'Principles and Practice of Knowledge Discovery in Databases' but only differ in year. "
   ]
  },
  {
   "cell_type": "markdown",
   "metadata": {},
   "source": [
    "### Part c"
   ]
  },
  {
   "cell_type": "markdown",
   "metadata": {},
   "source": [
    "When we try to determine the number of distinct authors, we find that for most of the publications, the number of authors is not always one. So the number of distinct authors we get by `nunique()` is obviously not accurate. "
   ]
  },
  {
   "cell_type": "markdown",
   "metadata": {},
   "source": [
    "## Problem 2"
   ]
  },
  {
   "cell_type": "markdown",
   "metadata": {},
   "source": [
    "### Part a"
   ]
  },
  {
   "cell_type": "markdown",
   "metadata": {},
   "source": [
    "We continue the process started in the Problem 1. We reset the indices and strip all the symbols related to '#'. Then concat dataframes of authors, publications and venues. In this part, I have done split (split authors for the same publication) and merge (merge different publications of the same author into one line). Thus the number of publications for each author is quite straightforward. "
   ]
  },
  {
   "cell_type": "code",
   "execution_count": 10,
   "metadata": {},
   "outputs": [],
   "source": [
    "paper=paper.reset_index(drop=True)\n",
    "authors=authors.reset_index(drop=True)\n",
    "venues=venues.reset_index(drop=True)"
   ]
  },
  {
   "cell_type": "code",
   "execution_count": 11,
   "metadata": {},
   "outputs": [],
   "source": [
    "replaced_authors=authors['row'].str.replace(r'^#@', '')\n",
    "replaced_venues=venues['row'].str.replace(r'^#c', '')\n",
    "replaced_paper=paper['row'].str.replace(r'^#\\*', '')"
   ]
  },
  {
   "cell_type": "code",
   "execution_count": 12,
   "metadata": {},
   "outputs": [],
   "source": [
    "df_new=pd.concat([replaced_paper,replaced_venues,replaced_authors],axis=1)"
   ]
  },
  {
   "cell_type": "code",
   "execution_count": 13,
   "metadata": {},
   "outputs": [],
   "source": [
    "df_new.columns=['paper','venue','author']"
   ]
  },
  {
   "cell_type": "code",
   "execution_count": 14,
   "metadata": {},
   "outputs": [],
   "source": [
    "df_new=df_new[df_new['author'].str.len() > 1]"
   ]
  },
  {
   "cell_type": "code",
   "execution_count": 15,
   "metadata": {},
   "outputs": [],
   "source": [
    "df_new=df_new.drop('author', axis=1).join(df_new['author'].str.split(';', expand=True).stack().reset_index(level=1, drop=True).rename('author'))"
   ]
  },
  {
   "cell_type": "code",
   "execution_count": 16,
   "metadata": {},
   "outputs": [],
   "source": [
    "author_agg = df_new.groupby('author').agg(';'.join).reset_index()"
   ]
  },
  {
   "cell_type": "code",
   "execution_count": 17,
   "metadata": {},
   "outputs": [],
   "source": [
    "author_agg['paper_num']=author_agg['paper'].str.split(\";\").str.len()"
   ]
  },
  {
   "cell_type": "code",
   "execution_count": 63,
   "metadata": {},
   "outputs": [
    {
     "data": {
      "image/png": "[encoded data removed]",
      "text/plain": [
       "<Figure size 432x288 with 1 Axes>"
      ]
     },
     "metadata": {},
     "output_type": "display_data"
    }
   ],
   "source": [
    "temp=list(author_agg['paper_num'])\n",
    "plt.hist(x=temp,bins=100,log=True)\n",
    "plt.show()"
   ]
  },
  {
   "cell_type": "markdown",
   "metadata": {},
   "source": [
    "### Part b"
   ]
  },
  {
   "cell_type": "markdown",
   "metadata": {},
   "source": [
    "When calculating those basic statistical numbers, I defined a new function named `status()` to make the result in a single dataframe."
   ]
  },
  {
   "cell_type": "code",
   "execution_count": 19,
   "metadata": {},
   "outputs": [],
   "source": [
    "def status(x):\n",
    "    return pd.DataFrame([x.mean(), x.std(), x.quantile(0.25), x.median(), x.quantile(0.75)],\n",
    "                    index = ['mean', 'standard deviation', '25% quantile', 'median', '75% quantile'])"
   ]
  },
  {
   "cell_type": "code",
   "execution_count": 20,
   "metadata": {},
   "outputs": [
    {
     "data": {
      "text/html": [
       "<div>\n",
       "<style scoped>\n",
       "    .dataframe tbody tr th:only-of-type {\n",
       "        vertical-align: middle;\n",
       "    }\n",
       "\n",
       "    .dataframe tbody tr th {\n",
       "        vertical-align: top;\n",
       "    }\n",
       "\n",
       "    .dataframe thead th {\n",
       "        text-align: right;\n",
       "    }\n",
       "</style>\n",
       "<table border=\"1\" class=\"dataframe\">\n",
       "  <thead>\n",
       "    <tr style=\"text-align: right;\">\n",
       "      <th></th>\n",
       "      <th>0</th>\n",
       "    </tr>\n",
       "  </thead>\n",
       "  <tbody>\n",
       "    <tr>\n",
       "      <th>mean</th>\n",
       "      <td>2.695926</td>\n",
       "    </tr>\n",
       "    <tr>\n",
       "      <th>standard deviation</th>\n",
       "      <td>6.402360</td>\n",
       "    </tr>\n",
       "    <tr>\n",
       "      <th>25% quantile</th>\n",
       "      <td>1.000000</td>\n",
       "    </tr>\n",
       "    <tr>\n",
       "      <th>median</th>\n",
       "      <td>1.000000</td>\n",
       "    </tr>\n",
       "    <tr>\n",
       "      <th>75% quantile</th>\n",
       "      <td>2.000000</td>\n",
       "    </tr>\n",
       "  </tbody>\n",
       "</table>\n",
       "</div>"
      ],
      "text/plain": [
       "                           0\n",
       "mean                2.695926\n",
       "standard deviation  6.402360\n",
       "25% quantile        1.000000\n",
       "median              1.000000\n",
       "75% quantile        2.000000"
      ]
     },
     "execution_count": 20,
     "metadata": {},
     "output_type": "execute_result"
    }
   ],
   "source": [
    "status(author_agg['paper_num'])"
   ]
  },
  {
   "cell_type": "markdown",
   "metadata": {},
   "source": [
    "When comparing the median and the mean value, we may find the median is only a half of the mean value. As the standard deviation is large, it may explain the difference between median and mean value that the paper number of each author varies a lot. In addition, the 3rd quantile value is also below the mean value, which means most of the authors have a really low number of publications. However, there are also some of the authors who owns a large number of publications. And those prolific authors pull up the average number of publications per author."
   ]
  },
  {
   "cell_type": "markdown",
   "metadata": {},
   "source": [
    "### Part c"
   ]
  },
  {
   "cell_type": "code",
   "execution_count": 21,
   "metadata": {},
   "outputs": [],
   "source": [
    "venue_agg = df_new.groupby('venue').agg(';'.join).reset_index()"
   ]
  },
  {
   "cell_type": "code",
   "execution_count": 22,
   "metadata": {},
   "outputs": [],
   "source": [
    "venue_agg['paper_num']=venue_agg['paper'].str.split(';').str.len()"
   ]
  },
  {
   "cell_type": "code",
   "execution_count": 23,
   "metadata": {},
   "outputs": [
    {
     "data": {
      "text/html": [
       "<div>\n",
       "<style scoped>\n",
       "    .dataframe tbody tr th:only-of-type {\n",
       "        vertical-align: middle;\n",
       "    }\n",
       "\n",
       "    .dataframe tbody tr th {\n",
       "        vertical-align: top;\n",
       "    }\n",
       "\n",
       "    .dataframe thead th {\n",
       "        text-align: right;\n",
       "    }\n",
       "</style>\n",
       "<table border=\"1\" class=\"dataframe\">\n",
       "  <thead>\n",
       "    <tr style=\"text-align: right;\">\n",
       "      <th></th>\n",
       "      <th>0</th>\n",
       "    </tr>\n",
       "  </thead>\n",
       "  <tbody>\n",
       "    <tr>\n",
       "      <th>mean</th>\n",
       "      <td>19.456755</td>\n",
       "    </tr>\n",
       "    <tr>\n",
       "      <th>standard deviation</th>\n",
       "      <td>209.588526</td>\n",
       "    </tr>\n",
       "    <tr>\n",
       "      <th>25% quantile</th>\n",
       "      <td>1.000000</td>\n",
       "    </tr>\n",
       "    <tr>\n",
       "      <th>median</th>\n",
       "      <td>2.000000</td>\n",
       "    </tr>\n",
       "    <tr>\n",
       "      <th>75% quantile</th>\n",
       "      <td>3.000000</td>\n",
       "    </tr>\n",
       "  </tbody>\n",
       "</table>\n",
       "</div>"
      ],
      "text/plain": [
       "                             0\n",
       "mean                 19.456755\n",
       "standard deviation  209.588526\n",
       "25% quantile          1.000000\n",
       "median                2.000000\n",
       "75% quantile          3.000000"
      ]
     },
     "execution_count": 23,
     "metadata": {},
     "output_type": "execute_result"
    }
   ],
   "source": [
    "status(venue_agg['paper_num'])"
   ]
  },
  {
   "cell_type": "code",
   "execution_count": 64,
   "metadata": {},
   "outputs": [
    {
     "data": {
      "image/png": "[encoded data removed]",
      "text/plain": [
       "<Figure size 432x288 with 1 Axes>"
      ]
     },
     "metadata": {},
     "output_type": "display_data"
    }
   ],
   "source": [
    "temp=list(venue_agg['paper_num'])\n",
    "plt.hist(x=temp,bins=100,log=True)\n",
    "plt.show()"
   ]
  },
  {
   "cell_type": "code",
   "execution_count": 25,
   "metadata": {},
   "outputs": [
    {
     "data": {
      "text/html": [
       "<div>\n",
       "<style scoped>\n",
       "    .dataframe tbody tr th:only-of-type {\n",
       "        vertical-align: middle;\n",
       "    }\n",
       "\n",
       "    .dataframe tbody tr th {\n",
       "        vertical-align: top;\n",
       "    }\n",
       "\n",
       "    .dataframe thead th {\n",
       "        text-align: right;\n",
       "    }\n",
       "</style>\n",
       "<table border=\"1\" class=\"dataframe\">\n",
       "  <thead>\n",
       "    <tr style=\"text-align: right;\">\n",
       "      <th></th>\n",
       "      <th>venue</th>\n",
       "      <th>paper</th>\n",
       "      <th>author</th>\n",
       "      <th>paper_num</th>\n",
       "    </tr>\n",
       "  </thead>\n",
       "  <tbody>\n",
       "    <tr>\n",
       "      <th>143203</th>\n",
       "      <td>Microelectronic Engineering</td>\n",
       "      <td>Microelectronic Engineering - Microcircuit en...</td>\n",
       "      <td>K D van der Mast;S Radelaar; A Ishitani;H Kit...</td>\n",
       "      <td>30338</td>\n",
       "    </tr>\n",
       "    <tr>\n",
       "      <th>39090</th>\n",
       "      <td>Bioinformatics</td>\n",
       "      <td>MedBlast: searching articles related to a bio...</td>\n",
       "      <td>Qiang Tu;Haixu Tang;Dafu Ding; Karan Vasudeva...</td>\n",
       "      <td>26097</td>\n",
       "    </tr>\n",
       "    <tr>\n",
       "      <th>109311</th>\n",
       "      <td>IEEE Transactions on Information Theory</td>\n",
       "      <td>The rate-distortion region for multiple descr...</td>\n",
       "      <td>Rudolf Ahlswede; Chris Heegard;Toby Berger; A...</td>\n",
       "      <td>22208</td>\n",
       "    </tr>\n",
       "    <tr>\n",
       "      <th>109338</th>\n",
       "      <td>IEEE Transactions on Signal Processing</td>\n",
       "      <td>Stochastic resonance in sequential detectors;...</td>\n",
       "      <td>Marco Guerriero;Stefano Marano;Vincenzo Matta...</td>\n",
       "      <td>20448</td>\n",
       "    </tr>\n",
       "    <tr>\n",
       "      <th>87473</th>\n",
       "      <td>Expert Systems with Applications: An Internat...</td>\n",
       "      <td>Accuracy of semi-analytic sensitivity analysi...</td>\n",
       "      <td>G.-D. Cheng;Y.-X. Gu;Y.-Y. Zhou; D. W. White;...</td>\n",
       "      <td>18473</td>\n",
       "    </tr>\n",
       "    <tr>\n",
       "      <th>125594</th>\n",
       "      <td>Journal of Computational Physics</td>\n",
       "      <td>Two-dimensional fully adaptive solutions of s...</td>\n",
       "      <td>M D Smooke;M L Koszykowski; J Michael Coyle;J...</td>\n",
       "      <td>17950</td>\n",
       "    </tr>\n",
       "    <tr>\n",
       "      <th>109289</th>\n",
       "      <td>IEEE Transactions on Consumer Electronics</td>\n",
       "      <td>A magnetic deflection up-date: field equation...</td>\n",
       "      <td>C. A. Washburn; J. Takeuchi;A. Koga;T. Kozai;...</td>\n",
       "      <td>16285</td>\n",
       "    </tr>\n",
       "    <tr>\n",
       "      <th>36119</th>\n",
       "      <td>Automatica (Journal of IFAC)</td>\n",
       "      <td>Application of advanced control methods in th...</td>\n",
       "      <td>G A Dumont; G B Di Masi;L Finesso;G Picci; D ...</td>\n",
       "      <td>16216</td>\n",
       "    </tr>\n",
       "    <tr>\n",
       "      <th>109274</th>\n",
       "      <td>IEEE Transactions on Computers</td>\n",
       "      <td>A Unified Approach to a Class of Data Movemen...</td>\n",
       "      <td>Peter M. Flanders; Yang-Chang Hong; John McGo...</td>\n",
       "      <td>15411</td>\n",
       "    </tr>\n",
       "    <tr>\n",
       "      <th>230217</th>\n",
       "      <td>Theoretical Computer Science</td>\n",
       "      <td>A weakest precondition semantics for communic...</td>\n",
       "      <td>Tzilla Elrad;Nissim Francez; Marisa Venturini...</td>\n",
       "      <td>13687</td>\n",
       "    </tr>\n",
       "    <tr>\n",
       "      <th>125599</th>\n",
       "      <td>Journal of Computational and Applied Mathematics</td>\n",
       "      <td>Effect of the CYBER 205 on the choice of meth...</td>\n",
       "      <td>J Natvig;B Nour-Omid;BN Parletter; P Dierckx;...</td>\n",
       "      <td>13378</td>\n",
       "    </tr>\n",
       "    <tr>\n",
       "      <th>50097</th>\n",
       "      <td>Communications of the ACM</td>\n",
       "      <td>Matings in matrices; Faster methods for rando...</td>\n",
       "      <td>Wolfgang Bibel; Jeffrey Scott Vitter; Larry R...</td>\n",
       "      <td>13160</td>\n",
       "    </tr>\n",
       "    <tr>\n",
       "      <th>140506</th>\n",
       "      <td>Mathematical and Computer Modelling: An Inter...</td>\n",
       "      <td>A second order numerical method for solving a...</td>\n",
       "      <td>R. Company;E. Ponsoda;J. -V. Romero;M. -D. Ro...</td>\n",
       "      <td>12766</td>\n",
       "    </tr>\n",
       "    <tr>\n",
       "      <th>109113</th>\n",
       "      <td>IEEE Communications Magazine</td>\n",
       "      <td>The president's page: finance: the business s...</td>\n",
       "      <td>Doug Zuckerman;Stan Moyer;Bruce Worthman; Rol...</td>\n",
       "      <td>12493</td>\n",
       "    </tr>\n",
       "    <tr>\n",
       "      <th>109169</th>\n",
       "      <td>IEEE Journal on Selected Areas in Communications</td>\n",
       "      <td>Guest editorial: data communication technique...</td>\n",
       "      <td>Sedat Ölçer;Aleksandar Kavcic;Bane Vasic;Bruc...</td>\n",
       "      <td>12413</td>\n",
       "    </tr>\n",
       "    <tr>\n",
       "      <th>53947</th>\n",
       "      <td>Computer Communications</td>\n",
       "      <td>Performance monitor for an operational LAN; D...</td>\n",
       "      <td>M S Madan; E H Teo;P Mui;N D Georganas; P Gon...</td>\n",
       "      <td>11787</td>\n",
       "    </tr>\n",
       "    <tr>\n",
       "      <th>109271</th>\n",
       "      <td>IEEE Transactions on Computer-Aided Design of...</td>\n",
       "      <td>Leveraging local intracore information to inc...</td>\n",
       "      <td>Cheng-Hong Li;Luca P. Carloni; Kristofer Vorw...</td>\n",
       "      <td>11728</td>\n",
       "    </tr>\n",
       "    <tr>\n",
       "      <th>53592</th>\n",
       "      <td>Computer</td>\n",
       "      <td>Computer - IEEE Centennial: the state of comp...</td>\n",
       "      <td>Stephen S. Yau; Ephraim P. Gilnert;Steven L. ...</td>\n",
       "      <td>11172</td>\n",
       "    </tr>\n",
       "    <tr>\n",
       "      <th>114930</th>\n",
       "      <td>Information Processing Letters</td>\n",
       "      <td>An O(n) algorithm for the linear multiple cho...</td>\n",
       "      <td>Eitan Zemel; Peter Moller-Nielsen;Jorgen Stau...</td>\n",
       "      <td>11092</td>\n",
       "    </tr>\n",
       "    <tr>\n",
       "      <th>109329</th>\n",
       "      <td>IEEE Transactions on Pattern Analysis and Mac...</td>\n",
       "      <td>Dynamic stereo: passive ranging to moving obj...</td>\n",
       "      <td>Allen M. Waxman;Sarvajit S. Sinha; Demetri Te...</td>\n",
       "      <td>10902</td>\n",
       "    </tr>\n",
       "    <tr>\n",
       "      <th>168931</th>\n",
       "      <td>Pattern Recognition Letters</td>\n",
       "      <td>An algorithm for finding nearest neighbours i...</td>\n",
       "      <td>E V Ruiz; S K Pal;P K Pramanik; G T Toussaint...</td>\n",
       "      <td>10463</td>\n",
       "    </tr>\n",
       "    <tr>\n",
       "      <th>125556</th>\n",
       "      <td>Journal of Cognitive Neuroscience</td>\n",
       "      <td>Auditory Spatial Tuning in Late-onset Blindne...</td>\n",
       "      <td>Anne Fieger;Brigitte R&amp;#246/der;Wolfgang Tede...</td>\n",
       "      <td>9956</td>\n",
       "    </tr>\n",
       "    <tr>\n",
       "      <th>57074</th>\n",
       "      <td>Computers &amp; Mathematics with Applications</td>\n",
       "      <td>Multicriteria analysis tools in real-life pro...</td>\n",
       "      <td>R. Statnikov;A. Bordetsky;A. Statnikov;I. Yan...</td>\n",
       "      <td>9925</td>\n",
       "    </tr>\n",
       "    <tr>\n",
       "      <th>109299</th>\n",
       "      <td>IEEE Transactions on Image Processing</td>\n",
       "      <td>A skeleton family generator via physics-based...</td>\n",
       "      <td>Stelios Krinidis;Vassilios Chatzis; S. Derin ...</td>\n",
       "      <td>9863</td>\n",
       "    </tr>\n",
       "    <tr>\n",
       "      <th>201887</th>\n",
       "      <td>Signal Processing</td>\n",
       "      <td>Exact likelihood for stationary vector autore...</td>\n",
       "      <td>J P Dugré;L L Scharf;C Gueguen; A Ligtenberg;...</td>\n",
       "      <td>9793</td>\n",
       "    </tr>\n",
       "    <tr>\n",
       "      <th>109392</th>\n",
       "      <td>IEEE Transactions on Wireless Communications</td>\n",
       "      <td>Mobile speed estimation for broadband wireles...</td>\n",
       "      <td>Yahong Rosa Zheng;Chengshan Xiao; Simon L. Co...</td>\n",
       "      <td>9370</td>\n",
       "    </tr>\n",
       "    <tr>\n",
       "      <th>96228</th>\n",
       "      <td>Fuzzy Sets and Systems</td>\n",
       "      <td>On the structure of fuzzy social welfare func...</td>\n",
       "      <td>C R Barret;P K Pattanaik;M Salles; W Kolodzie...</td>\n",
       "      <td>9334</td>\n",
       "    </tr>\n",
       "    <tr>\n",
       "      <th>115059</th>\n",
       "      <td>Information Sciences: an International Journal</td>\n",
       "      <td>The hierarchical ordering in Multiattribute f...</td>\n",
       "      <td>C. C. Chang;M. W. Du;R. C. T. Lee; David Haus...</td>\n",
       "      <td>9174</td>\n",
       "    </tr>\n",
       "    <tr>\n",
       "      <th>107021</th>\n",
       "      <td>IBM Journal of Research and Development</td>\n",
       "      <td>Statistical failure analysis of system timing...</td>\n",
       "      <td>Fred M. Armstrong;Mark R. Reiter;David R. Try...</td>\n",
       "      <td>8963</td>\n",
       "    </tr>\n",
       "    <tr>\n",
       "      <th>180275</th>\n",
       "      <td>Proceedings of the SIGCHI Conference on Human...</td>\n",
       "      <td>Self disclosure on computer forms: meta-analy...</td>\n",
       "      <td>Suzanne Weisband;Sara Kiesler; Thomas Erickso...</td>\n",
       "      <td>8830</td>\n",
       "    </tr>\n",
       "    <tr>\n",
       "      <th>...</th>\n",
       "      <td>...</td>\n",
       "      <td>...</td>\n",
       "      <td>...</td>\n",
       "      <td>...</td>\n",
       "    </tr>\n",
       "    <tr>\n",
       "      <th>120845</th>\n",
       "      <td>Internet Marketing for Your Tourism Business:...</td>\n",
       "      <td>Internet Marketing for Your Tourism Business:...</td>\n",
       "      <td>Susan Sweeney</td>\n",
       "      <td>1</td>\n",
       "    </tr>\n",
       "    <tr>\n",
       "      <th>120847</th>\n",
       "      <td>Internet Marketing: An Hour a Day</td>\n",
       "      <td>Internet Marketing: An Hour a Day</td>\n",
       "      <td>Matt Bailey</td>\n",
       "      <td>1</td>\n",
       "    </tr>\n",
       "    <tr>\n",
       "      <th>120851</th>\n",
       "      <td>Internet Marketing: Readings and Online Resou...</td>\n",
       "      <td>Internet Marketing: Readings and Online Resou...</td>\n",
       "      <td>Paul Richardson</td>\n",
       "      <td>1</td>\n",
       "    </tr>\n",
       "    <tr>\n",
       "      <th>120857</th>\n",
       "      <td>Internet Membership Kit: Macintosh Version</td>\n",
       "      <td>Internet Membership Kit: Macintosh Version</td>\n",
       "      <td>Michael Fraase</td>\n",
       "      <td>1</td>\n",
       "    </tr>\n",
       "    <tr>\n",
       "      <th>120840</th>\n",
       "      <td>Internet Marketing for Private Investigators:...</td>\n",
       "      <td>Internet Marketing for Private Investigators:...</td>\n",
       "      <td>Nick Holliday</td>\n",
       "      <td>1</td>\n",
       "    </tr>\n",
       "    <tr>\n",
       "      <th>120860</th>\n",
       "      <td>Internet Multimedia Communications Using SIP:...</td>\n",
       "      <td>Internet Multimedia Communications Using SIP:...</td>\n",
       "      <td>Rogelio Martinez Perea</td>\n",
       "      <td>1</td>\n",
       "    </tr>\n",
       "    <tr>\n",
       "      <th>120866</th>\n",
       "      <td>Internet Networks: Wired, Wireless, and Optic...</td>\n",
       "      <td>Internet Networks: Wired, Wireless, and Optic...</td>\n",
       "      <td>Krzysztof Iniewski</td>\n",
       "      <td>1</td>\n",
       "    </tr>\n",
       "    <tr>\n",
       "      <th>120867</th>\n",
       "      <td>Internet New York</td>\n",
       "      <td>Internet New York</td>\n",
       "      <td>Hayden Development Group</td>\n",
       "      <td>1</td>\n",
       "    </tr>\n",
       "    <tr>\n",
       "      <th>120868</th>\n",
       "      <td>Internet Newspapers: The Making of a Mainstre...</td>\n",
       "      <td>Internet Newspapers: The Making of a Mainstre...</td>\n",
       "      <td>Xigen Li</td>\n",
       "      <td>1</td>\n",
       "    </tr>\n",
       "    <tr>\n",
       "      <th>120870</th>\n",
       "      <td>Internet Outsourcing Using an Application Ser...</td>\n",
       "      <td>Internet Outsourcing Using an Application Ser...</td>\n",
       "      <td>Joseph R. Matthews</td>\n",
       "      <td>1</td>\n",
       "    </tr>\n",
       "    <tr>\n",
       "      <th>120872</th>\n",
       "      <td>Internet Para Dummies, (in Spanish)</td>\n",
       "      <td>Internet Para Dummies, (in Spanish)</td>\n",
       "      <td>John R. Levine</td>\n",
       "      <td>1</td>\n",
       "    </tr>\n",
       "    <tr>\n",
       "      <th>120841</th>\n",
       "      <td>Internet Marketing for Psychologists: Adverti...</td>\n",
       "      <td>Internet Marketing for Psychologists: Adverti...</td>\n",
       "      <td>Nick Holliday</td>\n",
       "      <td>1</td>\n",
       "    </tr>\n",
       "    <tr>\n",
       "      <th>120839</th>\n",
       "      <td>Internet Marketing for Photographers: Adverti...</td>\n",
       "      <td>Internet Marketing for Photographers: Adverti...</td>\n",
       "      <td>Nick Holliday</td>\n",
       "      <td>1</td>\n",
       "    </tr>\n",
       "    <tr>\n",
       "      <th>120818</th>\n",
       "      <td>Internet Made Easy: A Guide to the Internet f...</td>\n",
       "      <td>Internet Made Easy: A Guide to the Internet f...</td>\n",
       "      <td>Roelf Sluman</td>\n",
       "      <td>1</td>\n",
       "    </tr>\n",
       "    <tr>\n",
       "      <th>120828</th>\n",
       "      <td>Internet Marketing for Chiropractors: Marketi...</td>\n",
       "      <td>Internet Marketing for Chiropractors: Marketi...</td>\n",
       "      <td>Nick Holliday</td>\n",
       "      <td>1</td>\n",
       "    </tr>\n",
       "    <tr>\n",
       "      <th>120819</th>\n",
       "      <td>Internet Mailing Lists Manager for Windows Us...</td>\n",
       "      <td>Internet Mailing Lists Manager for Windows Us...</td>\n",
       "      <td>Vivian Neou</td>\n",
       "      <td>1</td>\n",
       "    </tr>\n",
       "    <tr>\n",
       "      <th>120820</th>\n",
       "      <td>Internet Management</td>\n",
       "      <td>Internet Management</td>\n",
       "      <td>Jessica Keyes</td>\n",
       "      <td>1</td>\n",
       "    </tr>\n",
       "    <tr>\n",
       "      <th>120821</th>\n",
       "      <td>Internet Management Issues: A Global Perspective</td>\n",
       "      <td>Internet Management Issues: A Global Perspective</td>\n",
       "      <td>John D. Haynes</td>\n",
       "      <td>1</td>\n",
       "    </tr>\n",
       "    <tr>\n",
       "      <th>120823</th>\n",
       "      <td>Internet Marketing 100 Success Secrets - Onli...</td>\n",
       "      <td>Internet Marketing 100 Success Secrets - Onli...</td>\n",
       "      <td>Jason Harris</td>\n",
       "      <td>1</td>\n",
       "    </tr>\n",
       "    <tr>\n",
       "      <th>120825</th>\n",
       "      <td>Internet Marketing Intelligence: Research Too...</td>\n",
       "      <td>Internet Marketing Intelligence: Research Too...</td>\n",
       "      <td>Edward Forrest</td>\n",
       "      <td>1</td>\n",
       "    </tr>\n",
       "    <tr>\n",
       "      <th>120826</th>\n",
       "      <td>Internet Marketing Research: Theory and Practice</td>\n",
       "      <td>Internet Marketing Research: Theory and Practice</td>\n",
       "      <td>Ook Lee</td>\n",
       "      <td>1</td>\n",
       "    </tr>\n",
       "    <tr>\n",
       "      <th>120829</th>\n",
       "      <td>Internet Marketing for Cosmetic Plastic Surge...</td>\n",
       "      <td>Internet Marketing for Cosmetic Plastic Surge...</td>\n",
       "      <td>Nick Holliday</td>\n",
       "      <td>1</td>\n",
       "    </tr>\n",
       "    <tr>\n",
       "      <th>120838</th>\n",
       "      <td>Internet Marketing for Naturopaths: Advertisi...</td>\n",
       "      <td>Internet Marketing for Naturopaths: Advertisi...</td>\n",
       "      <td>Nick Holliday</td>\n",
       "      <td>1</td>\n",
       "    </tr>\n",
       "    <tr>\n",
       "      <th>120831</th>\n",
       "      <td>Internet Marketing for Entrepreneurs: Using W...</td>\n",
       "      <td>Internet Marketing for Entrepreneurs: Using W...</td>\n",
       "      <td>Susan Payton</td>\n",
       "      <td>1</td>\n",
       "    </tr>\n",
       "    <tr>\n",
       "      <th>120832</th>\n",
       "      <td>Internet Marketing for Financial Planners: Ad...</td>\n",
       "      <td>Internet Marketing for Financial Planners: Ad...</td>\n",
       "      <td>Nick Holliday</td>\n",
       "      <td>1</td>\n",
       "    </tr>\n",
       "    <tr>\n",
       "      <th>120833</th>\n",
       "      <td>Internet Marketing for Free: THE GUIDE</td>\n",
       "      <td>Internet Marketing for Free: THE GUIDE</td>\n",
       "      <td>Jinger Jarrett</td>\n",
       "      <td>1</td>\n",
       "    </tr>\n",
       "    <tr>\n",
       "      <th>120834</th>\n",
       "      <td>Internet Marketing for General Contractors: A...</td>\n",
       "      <td>Internet Marketing for General Contractors: A...</td>\n",
       "      <td>Nick Holliday</td>\n",
       "      <td>1</td>\n",
       "    </tr>\n",
       "    <tr>\n",
       "      <th>120835</th>\n",
       "      <td>Internet Marketing for Information Technology...</td>\n",
       "      <td>Internet Marketing for Information Technology...</td>\n",
       "      <td>Barry D. Silverstein</td>\n",
       "      <td>1</td>\n",
       "    </tr>\n",
       "    <tr>\n",
       "      <th>120836</th>\n",
       "      <td>Internet Marketing for Insurance Agents: Adve...</td>\n",
       "      <td>Internet Marketing for Insurance Agents: Adve...</td>\n",
       "      <td>Nick Holliday</td>\n",
       "      <td>1</td>\n",
       "    </tr>\n",
       "    <tr>\n",
       "      <th>250650</th>\n",
       "      <td>“Virtual fixtures”: perceptual overlays enhan...</td>\n",
       "      <td>“Virtual fixtures”: perceptual overlays enhan...</td>\n",
       "      <td>Louis Barry Rosenberg</td>\n",
       "      <td>1</td>\n",
       "    </tr>\n",
       "  </tbody>\n",
       "</table>\n",
       "<p>250651 rows × 4 columns</p>\n",
       "</div>"
      ],
      "text/plain": [
       "                                                    venue  \\\n",
       "143203                        Microelectronic Engineering   \n",
       "39090                                      Bioinformatics   \n",
       "109311            IEEE Transactions on Information Theory   \n",
       "109338             IEEE Transactions on Signal Processing   \n",
       "87473    Expert Systems with Applications: An Internat...   \n",
       "125594                   Journal of Computational Physics   \n",
       "109289          IEEE Transactions on Consumer Electronics   \n",
       "36119                        Automatica (Journal of IFAC)   \n",
       "109274                     IEEE Transactions on Computers   \n",
       "230217                       Theoretical Computer Science   \n",
       "125599   Journal of Computational and Applied Mathematics   \n",
       "50097                           Communications of the ACM   \n",
       "140506   Mathematical and Computer Modelling: An Inter...   \n",
       "109113                       IEEE Communications Magazine   \n",
       "109169   IEEE Journal on Selected Areas in Communications   \n",
       "53947                             Computer Communications   \n",
       "109271   IEEE Transactions on Computer-Aided Design of...   \n",
       "53592                                            Computer   \n",
       "114930                     Information Processing Letters   \n",
       "109329   IEEE Transactions on Pattern Analysis and Mac...   \n",
       "168931                        Pattern Recognition Letters   \n",
       "125556                  Journal of Cognitive Neuroscience   \n",
       "57074           Computers & Mathematics with Applications   \n",
       "109299              IEEE Transactions on Image Processing   \n",
       "201887                                  Signal Processing   \n",
       "109392       IEEE Transactions on Wireless Communications   \n",
       "96228                              Fuzzy Sets and Systems   \n",
       "115059     Information Sciences: an International Journal   \n",
       "107021            IBM Journal of Research and Development   \n",
       "180275   Proceedings of the SIGCHI Conference on Human...   \n",
       "...                                                   ...   \n",
       "120845   Internet Marketing for Your Tourism Business:...   \n",
       "120847                  Internet Marketing: An Hour a Day   \n",
       "120851   Internet Marketing: Readings and Online Resou...   \n",
       "120857         Internet Membership Kit: Macintosh Version   \n",
       "120840   Internet Marketing for Private Investigators:...   \n",
       "120860   Internet Multimedia Communications Using SIP:...   \n",
       "120866   Internet Networks: Wired, Wireless, and Optic...   \n",
       "120867                                  Internet New York   \n",
       "120868   Internet Newspapers: The Making of a Mainstre...   \n",
       "120870   Internet Outsourcing Using an Application Ser...   \n",
       "120872                Internet Para Dummies, (in Spanish)   \n",
       "120841   Internet Marketing for Psychologists: Adverti...   \n",
       "120839   Internet Marketing for Photographers: Adverti...   \n",
       "120818   Internet Made Easy: A Guide to the Internet f...   \n",
       "120828   Internet Marketing for Chiropractors: Marketi...   \n",
       "120819   Internet Mailing Lists Manager for Windows Us...   \n",
       "120820                                Internet Management   \n",
       "120821   Internet Management Issues: A Global Perspective   \n",
       "120823   Internet Marketing 100 Success Secrets - Onli...   \n",
       "120825   Internet Marketing Intelligence: Research Too...   \n",
       "120826   Internet Marketing Research: Theory and Practice   \n",
       "120829   Internet Marketing for Cosmetic Plastic Surge...   \n",
       "120838   Internet Marketing for Naturopaths: Advertisi...   \n",
       "120831   Internet Marketing for Entrepreneurs: Using W...   \n",
       "120832   Internet Marketing for Financial Planners: Ad...   \n",
       "120833             Internet Marketing for Free: THE GUIDE   \n",
       "120834   Internet Marketing for General Contractors: A...   \n",
       "120835   Internet Marketing for Information Technology...   \n",
       "120836   Internet Marketing for Insurance Agents: Adve...   \n",
       "250650   “Virtual fixtures”: perceptual overlays enhan...   \n",
       "\n",
       "                                                    paper  \\\n",
       "143203   Microelectronic Engineering - Microcircuit en...   \n",
       "39090    MedBlast: searching articles related to a bio...   \n",
       "109311   The rate-distortion region for multiple descr...   \n",
       "109338   Stochastic resonance in sequential detectors;...   \n",
       "87473    Accuracy of semi-analytic sensitivity analysi...   \n",
       "125594   Two-dimensional fully adaptive solutions of s...   \n",
       "109289   A magnetic deflection up-date: field equation...   \n",
       "36119    Application of advanced control methods in th...   \n",
       "109274   A Unified Approach to a Class of Data Movemen...   \n",
       "230217   A weakest precondition semantics for communic...   \n",
       "125599   Effect of the CYBER 205 on the choice of meth...   \n",
       "50097    Matings in matrices; Faster methods for rando...   \n",
       "140506   A second order numerical method for solving a...   \n",
       "109113   The president's page: finance: the business s...   \n",
       "109169   Guest editorial: data communication technique...   \n",
       "53947    Performance monitor for an operational LAN; D...   \n",
       "109271   Leveraging local intracore information to inc...   \n",
       "53592    Computer - IEEE Centennial: the state of comp...   \n",
       "114930   An O(n) algorithm for the linear multiple cho...   \n",
       "109329   Dynamic stereo: passive ranging to moving obj...   \n",
       "168931   An algorithm for finding nearest neighbours i...   \n",
       "125556   Auditory Spatial Tuning in Late-onset Blindne...   \n",
       "57074    Multicriteria analysis tools in real-life pro...   \n",
       "109299   A skeleton family generator via physics-based...   \n",
       "201887   Exact likelihood for stationary vector autore...   \n",
       "109392   Mobile speed estimation for broadband wireles...   \n",
       "96228    On the structure of fuzzy social welfare func...   \n",
       "115059   The hierarchical ordering in Multiattribute f...   \n",
       "107021   Statistical failure analysis of system timing...   \n",
       "180275   Self disclosure on computer forms: meta-analy...   \n",
       "...                                                   ...   \n",
       "120845   Internet Marketing for Your Tourism Business:...   \n",
       "120847                  Internet Marketing: An Hour a Day   \n",
       "120851   Internet Marketing: Readings and Online Resou...   \n",
       "120857         Internet Membership Kit: Macintosh Version   \n",
       "120840   Internet Marketing for Private Investigators:...   \n",
       "120860   Internet Multimedia Communications Using SIP:...   \n",
       "120866   Internet Networks: Wired, Wireless, and Optic...   \n",
       "120867                                  Internet New York   \n",
       "120868   Internet Newspapers: The Making of a Mainstre...   \n",
       "120870   Internet Outsourcing Using an Application Ser...   \n",
       "120872                Internet Para Dummies, (in Spanish)   \n",
       "120841   Internet Marketing for Psychologists: Adverti...   \n",
       "120839   Internet Marketing for Photographers: Adverti...   \n",
       "120818   Internet Made Easy: A Guide to the Internet f...   \n",
       "120828   Internet Marketing for Chiropractors: Marketi...   \n",
       "120819   Internet Mailing Lists Manager for Windows Us...   \n",
       "120820                                Internet Management   \n",
       "120821   Internet Management Issues: A Global Perspective   \n",
       "120823   Internet Marketing 100 Success Secrets - Onli...   \n",
       "120825   Internet Marketing Intelligence: Research Too...   \n",
       "120826   Internet Marketing Research: Theory and Practice   \n",
       "120829   Internet Marketing for Cosmetic Plastic Surge...   \n",
       "120838   Internet Marketing for Naturopaths: Advertisi...   \n",
       "120831   Internet Marketing for Entrepreneurs: Using W...   \n",
       "120832   Internet Marketing for Financial Planners: Ad...   \n",
       "120833             Internet Marketing for Free: THE GUIDE   \n",
       "120834   Internet Marketing for General Contractors: A...   \n",
       "120835   Internet Marketing for Information Technology...   \n",
       "120836   Internet Marketing for Insurance Agents: Adve...   \n",
       "250650   “Virtual fixtures”: perceptual overlays enhan...   \n",
       "\n",
       "                                                   author  paper_num  \n",
       "143203   K D van der Mast;S Radelaar; A Ishitani;H Kit...      30338  \n",
       "39090    Qiang Tu;Haixu Tang;Dafu Ding; Karan Vasudeva...      26097  \n",
       "109311   Rudolf Ahlswede; Chris Heegard;Toby Berger; A...      22208  \n",
       "109338   Marco Guerriero;Stefano Marano;Vincenzo Matta...      20448  \n",
       "87473    G.-D. Cheng;Y.-X. Gu;Y.-Y. Zhou; D. W. White;...      18473  \n",
       "125594   M D Smooke;M L Koszykowski; J Michael Coyle;J...      17950  \n",
       "109289   C. A. Washburn; J. Takeuchi;A. Koga;T. Kozai;...      16285  \n",
       "36119    G A Dumont; G B Di Masi;L Finesso;G Picci; D ...      16216  \n",
       "109274   Peter M. Flanders; Yang-Chang Hong; John McGo...      15411  \n",
       "230217   Tzilla Elrad;Nissim Francez; Marisa Venturini...      13687  \n",
       "125599   J Natvig;B Nour-Omid;BN Parletter; P Dierckx;...      13378  \n",
       "50097    Wolfgang Bibel; Jeffrey Scott Vitter; Larry R...      13160  \n",
       "140506   R. Company;E. Ponsoda;J. -V. Romero;M. -D. Ro...      12766  \n",
       "109113   Doug Zuckerman;Stan Moyer;Bruce Worthman; Rol...      12493  \n",
       "109169   Sedat Ölçer;Aleksandar Kavcic;Bane Vasic;Bruc...      12413  \n",
       "53947    M S Madan; E H Teo;P Mui;N D Georganas; P Gon...      11787  \n",
       "109271   Cheng-Hong Li;Luca P. Carloni; Kristofer Vorw...      11728  \n",
       "53592    Stephen S. Yau; Ephraim P. Gilnert;Steven L. ...      11172  \n",
       "114930   Eitan Zemel; Peter Moller-Nielsen;Jorgen Stau...      11092  \n",
       "109329   Allen M. Waxman;Sarvajit S. Sinha; Demetri Te...      10902  \n",
       "168931   E V Ruiz; S K Pal;P K Pramanik; G T Toussaint...      10463  \n",
       "125556   Anne Fieger;Brigitte R&#246/der;Wolfgang Tede...       9956  \n",
       "57074    R. Statnikov;A. Bordetsky;A. Statnikov;I. Yan...       9925  \n",
       "109299   Stelios Krinidis;Vassilios Chatzis; S. Derin ...       9863  \n",
       "201887   J P Dugré;L L Scharf;C Gueguen; A Ligtenberg;...       9793  \n",
       "109392   Yahong Rosa Zheng;Chengshan Xiao; Simon L. Co...       9370  \n",
       "96228    C R Barret;P K Pattanaik;M Salles; W Kolodzie...       9334  \n",
       "115059   C. C. Chang;M. W. Du;R. C. T. Lee; David Haus...       9174  \n",
       "107021   Fred M. Armstrong;Mark R. Reiter;David R. Try...       8963  \n",
       "180275   Suzanne Weisband;Sara Kiesler; Thomas Erickso...       8830  \n",
       "...                                                   ...        ...  \n",
       "120845                                      Susan Sweeney          1  \n",
       "120847                                        Matt Bailey          1  \n",
       "120851                                    Paul Richardson          1  \n",
       "120857                                     Michael Fraase          1  \n",
       "120840                                      Nick Holliday          1  \n",
       "120860                             Rogelio Martinez Perea          1  \n",
       "120866                                 Krzysztof Iniewski          1  \n",
       "120867                           Hayden Development Group          1  \n",
       "120868                                           Xigen Li          1  \n",
       "120870                                 Joseph R. Matthews          1  \n",
       "120872                                     John R. Levine          1  \n",
       "120841                                      Nick Holliday          1  \n",
       "120839                                      Nick Holliday          1  \n",
       "120818                                       Roelf Sluman          1  \n",
       "120828                                      Nick Holliday          1  \n",
       "120819                                        Vivian Neou          1  \n",
       "120820                                      Jessica Keyes          1  \n",
       "120821                                     John D. Haynes          1  \n",
       "120823                                       Jason Harris          1  \n",
       "120825                                     Edward Forrest          1  \n",
       "120826                                            Ook Lee          1  \n",
       "120829                                      Nick Holliday          1  \n",
       "120838                                      Nick Holliday          1  \n",
       "120831                                       Susan Payton          1  \n",
       "120832                                      Nick Holliday          1  \n",
       "120833                                     Jinger Jarrett          1  \n",
       "120834                                      Nick Holliday          1  \n",
       "120835                               Barry D. Silverstein          1  \n",
       "120836                                      Nick Holliday          1  \n",
       "250650                              Louis Barry Rosenberg          1  \n",
       "\n",
       "[250651 rows x 4 columns]"
      ]
     },
     "execution_count": 25,
     "metadata": {},
     "output_type": "execute_result"
    }
   ],
   "source": [
    "venue_agg.sort_values(by=['paper_num'], ascending=False)"
   ]
  },
  {
   "cell_type": "markdown",
   "metadata": {},
   "source": [
    "So the venue with the largest number of publications in the dataset is *Microelectronic Engineering*. "
   ]
  },
  {
   "cell_type": "markdown",
   "metadata": {},
   "source": [
    "## Problem 3"
   ]
  },
  {
   "cell_type": "markdown",
   "metadata": {},
   "source": [
    "### Part a"
   ]
  },
  {
   "cell_type": "markdown",
   "metadata": {},
   "source": [
    "Since the method with `pandas` used in problem 1 and problem 2 is relatively slow, I tried to use dictionaries in problem 3 which could be much faster. First, read in the dataset. Here I use different key and value pairs to store different types of data and using those dictionaries like relational databases. For example, in `dic`, I assign publication index to key and a list of references to value. Similarly, the function of all other dictionaries are commented in the code cells. "
   ]
  },
  {
   "cell_type": "code",
   "execution_count": 26,
   "metadata": {},
   "outputs": [],
   "source": [
    "import operator\n",
    "%matplotlib inline"
   ]
  },
  {
   "cell_type": "code",
   "execution_count": 27,
   "metadata": {},
   "outputs": [
    {
     "data": {
      "text/plain": [
       "[]"
      ]
     },
     "execution_count": 27,
     "metadata": {},
     "output_type": "execute_result"
    }
   ],
   "source": [
    "dic = {} #references for each publication\n",
    "venue_dic = {} #venue name for each publication\n",
    "publication_dic = {} #publication name and index connection\n",
    "year_dic = {} #the year of a publication\n",
    "temp = []\n",
    "index_temp = ''\n",
    "with open (\"q2_dataset.txt\", 'r') as f:\n",
    "    for line in f.readlines():\n",
    "        if re.search('^#index(.*)', line):\n",
    "            line = line.strip('#index ').strip('\\n')\n",
    "            dic[str(int(line)-1)]=temp\n",
    "            index_temp = line\n",
    "            temp = []\n",
    "        elif re.search('^#%(.*)', line):\n",
    "            line = line.strip('#% ').strip('\\n')\n",
    "            temp.append(line)\n",
    "        elif re.search('^#c(.*)', line):\n",
    "            line = line.strip('#c ').strip('\\n')\n",
    "            venue_dic[index_temp] = line\n",
    "        elif re.search('^#\\*(.*)', line):\n",
    "            line = line.strip('#* ').strip('\\n')\n",
    "            publication_dic[index_temp] = line\n",
    "        elif re.search('^#t(.*)', line):\n",
    "            line = line.strip('#t ').strip('\\n')\n",
    "            year_dic[index_temp] = line\n",
    "dic.pop('0', 0)"
   ]
  },
  {
   "cell_type": "markdown",
   "metadata": {},
   "source": [
    "Here I use `dic` and `citations` to indicate list of references and number of citations for each publication. And `dic_count` as the number of references of each publication. Then plot a histogram of the number of references and citations per paper. "
   ]
  },
  {
   "cell_type": "code",
   "execution_count": 28,
   "metadata": {},
   "outputs": [],
   "source": [
    "citations = {} #citations times for each publication\n",
    "for pair in dic:\n",
    "    for cit in dic[pair]:\n",
    "        if cit in citations.keys():\n",
    "            citations[cit]+=1\n",
    "        else:\n",
    "            citations[cit]=1"
   ]
  },
  {
   "cell_type": "code",
   "execution_count": 29,
   "metadata": {},
   "outputs": [],
   "source": [
    "dic_count = {} #count the number of references of each publication\n",
    "for pair in dic:\n",
    "    dic_count[pair] = len(dic[pair])"
   ]
  },
  {
   "cell_type": "code",
   "execution_count": 30,
   "metadata": {},
   "outputs": [
    {
     "data": {
      "text/plain": [
       "<matplotlib.legend.Legend at 0x2b543b6d8>"
      ]
     },
     "execution_count": 30,
     "metadata": {},
     "output_type": "execute_result"
    },
    {
     "data": {
      "image/png": "[encoded data removed]",
      "text/plain": [
       "<Figure size 432x288 with 1 Axes>"
      ]
     },
     "metadata": {},
     "output_type": "display_data"
    }
   ],
   "source": [
    "fig, ax = plt.subplots()\n",
    "ax.hist(list(citations.values()), bins=100, log=True, alpha=1/2, label='number of references')\n",
    "ax.hist(list(dic_count.values()), bins=100, log=True, alpha=1/2, label='number of citations')\n",
    "ax.legend()"
   ]
  },
  {
   "cell_type": "code",
   "execution_count": 31,
   "metadata": {},
   "outputs": [],
   "source": [
    "dic_sort = sorted(dic_count.items(),key = operator.itemgetter(1),reverse = True)"
   ]
  },
  {
   "cell_type": "code",
   "execution_count": 32,
   "metadata": {},
   "outputs": [
    {
     "data": {
      "text/plain": [
       "[('719353', 772),\n",
       " ('1221204', 555),\n",
       " ('1583653', 527),\n",
       " ('1376720', 524),\n",
       " ('1221200', 523)]"
      ]
     },
     "execution_count": 32,
     "metadata": {},
     "output_type": "execute_result"
    }
   ],
   "source": [
    "dic_sort[:5]"
   ]
  },
  {
   "cell_type": "code",
   "execution_count": 33,
   "metadata": {},
   "outputs": [
    {
     "data": {
      "text/plain": [
       "'Cited References'"
      ]
     },
     "execution_count": 33,
     "metadata": {},
     "output_type": "execute_result"
    }
   ],
   "source": [
    "publication_dic[dic_sort[0][0]]"
   ]
  },
  {
   "cell_type": "code",
   "execution_count": 34,
   "metadata": {},
   "outputs": [],
   "source": [
    "citations_sort = sorted(citations.items(),key = operator.itemgetter(1),reverse = True)"
   ]
  },
  {
   "cell_type": "code",
   "execution_count": 35,
   "metadata": {},
   "outputs": [
    {
     "data": {
      "text/plain": [
       "[('408396', 7753),\n",
       " ('369236', 5891),\n",
       " ('190581', 4748),\n",
       " ('136350', 4399),\n",
       " ('168251', 4336)]"
      ]
     },
     "execution_count": 35,
     "metadata": {},
     "output_type": "execute_result"
    }
   ],
   "source": [
    "citations_sort[:5]"
   ]
  },
  {
   "cell_type": "code",
   "execution_count": 36,
   "metadata": {},
   "outputs": [
    {
     "data": {
      "text/plain": [
       "'Computers and Intractability: A Guide to the Theory of NP-Completeness'"
      ]
     },
     "execution_count": 36,
     "metadata": {},
     "output_type": "execute_result"
    }
   ],
   "source": [
    "publication_dic[citations_sort[0][0]]"
   ]
  },
  {
   "cell_type": "markdown",
   "metadata": {},
   "source": [
    "From the sorting results above, we finally find that *Cited References* has the largest number of references and *Computers and Intractability: A Guide to the Theory of NP-Completeness* has the largest number of citations. "
   ]
  },
  {
   "cell_type": "markdown",
   "metadata": {},
   "source": [
    "### Part b & c"
   ]
  },
  {
   "cell_type": "markdown",
   "metadata": {},
   "source": [
    "We first calculate the number of publications in each venue and then derive the total number of citations for the publications in each venue along with number of citations that we get in part a. Then we simply divide those two numbers and get the impact factor for each venue. "
   ]
  },
  {
   "cell_type": "code",
   "execution_count": 37,
   "metadata": {},
   "outputs": [],
   "source": [
    "pub_per_venue={} #the number of publications for each venue\n",
    "for pair in venue_dic:\n",
    "    key = venue_dic[pair]\n",
    "    if key in pub_per_venue.keys():\n",
    "        pub_per_venue[key]+=1\n",
    "    else:\n",
    "        pub_per_venue[key]=1"
   ]
  },
  {
   "cell_type": "code",
   "execution_count": 38,
   "metadata": {},
   "outputs": [],
   "source": [
    "cit_per_venue={} #total number of citations for the publications in the venue\n",
    "for pair in citations:\n",
    "    num = citations[pair]\n",
    "    if pair in venue_dic.keys():\n",
    "        key = venue_dic[pair]\n",
    "    if key in cit_per_venue.keys():\n",
    "        cit_per_venue[key]+=num\n",
    "    else:\n",
    "        cit_per_venue[key]=num"
   ]
  },
  {
   "cell_type": "code",
   "execution_count": 39,
   "metadata": {},
   "outputs": [],
   "source": [
    "impact_factor={}\n",
    "for pair in cit_per_venue:\n",
    "    impact_factor[pair]=cit_per_venue[pair]/pub_per_venue[pair]"
   ]
  },
  {
   "cell_type": "code",
   "execution_count": 40,
   "metadata": {},
   "outputs": [
    {
     "data": {
      "image/png": "[encoded data removed]",
      "text/plain": [
       "<Figure size 432x288 with 1 Axes>"
      ]
     },
     "metadata": {},
     "output_type": "display_data"
    }
   ],
   "source": [
    "plt.hist(list(impact_factor.values()), bins=100, log=True)\n",
    "plt.show()"
   ]
  },
  {
   "cell_type": "code",
   "execution_count": 41,
   "metadata": {
    "scrolled": false
   },
   "outputs": [],
   "source": [
    "factor_sort = sorted(impact_factor.items(),key = operator.itemgetter(1),reverse = True)"
   ]
  },
  {
   "cell_type": "code",
   "execution_count": 42,
   "metadata": {
    "scrolled": true
   },
   "outputs": [
    {
     "data": {
      "text/plain": [
       "[('Computers and Intractability: A Guide to the Theory of NP-Completeness',\n",
       "  7753.0),\n",
       " ('Genetic Algorithms in Search, Optimization and Machine Learning', 5891.0),\n",
       " ('The nature of statistical learning theory', 4748.0),\n",
       " ('C4.5: programs for machine learning', 4399.0),\n",
       " ('Design patterns: elements of reusable object-oriented software', 4336.0)]"
      ]
     },
     "execution_count": 42,
     "metadata": {},
     "output_type": "execute_result"
    }
   ],
   "source": [
    "factor_sort[:5]"
   ]
  },
  {
   "cell_type": "code",
   "execution_count": 43,
   "metadata": {},
   "outputs": [
    {
     "data": {
      "text/plain": [
       "1"
      ]
     },
     "execution_count": 43,
     "metadata": {},
     "output_type": "execute_result"
    }
   ],
   "source": [
    "pub_per_venue['Computers and Intractability: A Guide to the Theory of NP-Completeness']"
   ]
  },
  {
   "cell_type": "markdown",
   "metadata": {},
   "source": [
    "By sorting the dictionary of `impact_factor`, we can see that the venue with the highest impact factor is named *Computers and Intractability: A Guide to the Theory of NP-Completeness*. However, the number here (7753) is quite unconvincing. If we dig deeper, we will find that there is only one publications within this venue which accounts for the uncommonly big impact factor here. Hence, the result is not acceptable, and we are going to find another way."
   ]
  },
  {
   "cell_type": "markdown",
   "metadata": {},
   "source": [
    "### Part d"
   ]
  },
  {
   "cell_type": "markdown",
   "metadata": {},
   "source": [
    "As mentioned, the impact factor calculated in part c is not convincing. So we are going to restrict the calculation to venues with at least 10 publications. When we apply that, the number is acceptable. "
   ]
  },
  {
   "cell_type": "code",
   "execution_count": 44,
   "metadata": {},
   "outputs": [],
   "source": [
    "venue_least10={} #venues with at least ten publications in it\n",
    "for pair in pub_per_venue:\n",
    "    temp = pub_per_venue[pair]\n",
    "    if temp > 10:\n",
    "        venue_least10[pair] = temp"
   ]
  },
  {
   "cell_type": "code",
   "execution_count": 45,
   "metadata": {},
   "outputs": [],
   "source": [
    "impact_factor_least10={}\n",
    "for pair in cit_per_venue:\n",
    "    if pair in venue_least10.keys():\n",
    "        impact_factor_least10[pair]=cit_per_venue[pair]/venue_least10[pair]"
   ]
  },
  {
   "cell_type": "code",
   "execution_count": 46,
   "metadata": {},
   "outputs": [],
   "source": [
    "factor_sort_least10 = sorted(impact_factor_least10.items(),key = operator.itemgetter(1),reverse = True)"
   ]
  },
  {
   "cell_type": "code",
   "execution_count": 47,
   "metadata": {},
   "outputs": [
    {
     "data": {
      "text/plain": [
       "[('Proceedings of the 2001 conference on Applications, technologies, architectures, and protocols for computer communications',\n",
       "  214.82608695652175),\n",
       " ('Computational Linguistics - Special issue on using large corpora: II',\n",
       "  195.5),\n",
       " (\"SOSP '01 Proceedings of the eighteenth ACM symposium on Operating systems principles\",\n",
       "  177.7058823529412),\n",
       " (\"MobiCom '00 Proceedings of the 6th annual international conference on Mobile computing and networking\",\n",
       "  176.21428571428572),\n",
       " (\"SOSP '03 Proceedings of the nineteenth ACM symposium on Operating systems principles\",\n",
       "  164.54545454545453)]"
      ]
     },
     "execution_count": 47,
     "metadata": {},
     "output_type": "execute_result"
    }
   ],
   "source": [
    "factor_sort_least10[:5]"
   ]
  },
  {
   "cell_type": "code",
   "execution_count": 48,
   "metadata": {},
   "outputs": [
    {
     "data": {
      "image/png": "[encoded data removed]",
      "text/plain": [
       "<Figure size 432x288 with 1 Axes>"
      ]
     },
     "metadata": {},
     "output_type": "display_data"
    }
   ],
   "source": [
    "plt.hist(list(impact_factor_least10.values()), bins=100, log=True)\n",
    "plt.show()"
   ]
  },
  {
   "cell_type": "markdown",
   "metadata": {},
   "source": [
    "As the process and results shown above, the histogram seems more smooth with a crest not as much sharp and the venue with the highest impact factor is named *Proceedings of the 2001 conference on Applications, technologies, architectures, and protocols for computer communications* with a impact factor of around 215. And I print all publication names in it as `pub_in_hfv`."
   ]
  },
  {
   "cell_type": "code",
   "execution_count": 49,
   "metadata": {},
   "outputs": [],
   "source": [
    "highest_factor_venue={}\n",
    "for pair in venue_dic:\n",
    "    if venue_dic[pair]=='Proceedings of the 2001 conference on Applications, technologies, architectures, and protocols for computer communications':\n",
    "        highest_factor_venue[pair]=venue_dic[pair]"
   ]
  },
  {
   "cell_type": "code",
   "execution_count": 50,
   "metadata": {},
   "outputs": [],
   "source": [
    "pub_in_hfv={}\n",
    "for pair in highest_factor_venue:\n",
    "    pub_in_hfv[publication_dic[pair]]=citations[pair]\n",
    "pub_in_hfv_sort = sorted(pub_in_hfv.items(),key = operator.itemgetter(1),reverse = True)"
   ]
  },
  {
   "cell_type": "code",
   "execution_count": 65,
   "metadata": {},
   "outputs": [
    {
     "data": {
      "text/plain": [
       "{'Hash-based IP traceback': 167,\n",
       " 'On the effectiveness of route-based packet filtering for distributed DoS attack prevention in power-law internets': 115,\n",
       " 'Reliable group rekeying: a performance analysis': 48,\n",
       " 'Aging through cascaded caches: performance issues in the distribution of web content': 11,\n",
       " 'Enabling conferencing applications on the internet using an overlay muilticast architecture': 138,\n",
       " 'IPNL: A NAT-extended internet architecture': 50,\n",
       " 'On the impact of policing and rate guarantees in DiffServ networks: a video streaming application perspective': 10,\n",
       " 'Scalable on-demand media streaming with packet loss recovery': 11,\n",
       " 'Statistical bandwidth sharing: a study of congestion at flow level': 112,\n",
       " 'Analysis and design of an adaptive virtual queue (AVQ) algorithm for active queue management': 103,\n",
       " 'Algorithms for provisioning virtual private networks in the hose model': 27,\n",
       " 'Chord: A scalable peer-to-peer lookup service for internet applications': 2140,\n",
       " 'A scalable content-addressable network': 1609,\n",
       " 'An investigation of geographic mapping techniques for internet hosts': 87,\n",
       " 'Fair queuing for aggregated multiple links': 22,\n",
       " 'Scalable packet classification': 67,\n",
       " 'SRR: An O(1) time complexity packet scheduler for flows in multi-service packet networks': 19,\n",
       " 'Stability issues in OSPF routing': 28,\n",
       " 'Topology discovery for large ethernet networks': 22,\n",
       " 'Hop by hop multicast routing protocol': 21,\n",
       " 'Dynamic behavior of slowly-responsive congestion control algorithms': 42,\n",
       " 'Extending equation-based congestion control to multicast applications': 46,\n",
       " 'On inferring TCP behavior': 46}"
      ]
     },
     "execution_count": 65,
     "metadata": {},
     "output_type": "execute_result"
    }
   ],
   "source": [
    "pub_in_hfv"
   ]
  },
  {
   "cell_type": "markdown",
   "metadata": {},
   "source": [
    "When we considered mean number of ciations (which is also impact factor) and median number of citations, we come back to the dictionary of `citations`."
   ]
  },
  {
   "cell_type": "code",
   "execution_count": 51,
   "metadata": {},
   "outputs": [
    {
     "data": {
      "text/plain": [
       "214.82608695652175"
      ]
     },
     "execution_count": 51,
     "metadata": {},
     "output_type": "execute_result"
    }
   ],
   "source": [
    "mean_value = factor_sort_least10[0][1]\n",
    "mean_value"
   ]
  },
  {
   "cell_type": "code",
   "execution_count": 52,
   "metadata": {},
   "outputs": [
    {
     "data": {
      "text/plain": [
       "('Extending equation-based congestion control to multicast applications', 46)"
      ]
     },
     "execution_count": 52,
     "metadata": {},
     "output_type": "execute_result"
    }
   ],
   "source": [
    "median_value = pub_in_hfv_sort[int(len(pub_in_hfv_sort)/2)]\n",
    "median_value"
   ]
  },
  {
   "cell_type": "markdown",
   "metadata": {},
   "source": [
    "The median value is relatively small comparing to the mean value. The reason here might be that some of the well-done papers have a really high citation numbers and drag the entire mean value to a high level. While vast number of papers are having a low level citation number."
   ]
  },
  {
   "cell_type": "markdown",
   "metadata": {},
   "source": [
    "### Part e"
   ]
  },
  {
   "cell_type": "markdown",
   "metadata": {},
   "source": [
    "As in Part a, we have already constructed a dictionary that saves the publication year of each paper named `year_dic`. First, count the number of publications in each year and save as `year_count`. Then we connect this with `dic` to find the relationship between references and time. "
   ]
  },
  {
   "cell_type": "code",
   "execution_count": 53,
   "metadata": {},
   "outputs": [],
   "source": [
    "year_count={}#number of publications in each year\n",
    "for pair in year_dic:\n",
    "    key = year_dic[pair]\n",
    "    if key in year_count.keys():\n",
    "        year_count[key]+=1\n",
    "    else:\n",
    "        year_count[key]=1"
   ]
  },
  {
   "cell_type": "code",
   "execution_count": 54,
   "metadata": {},
   "outputs": [
    {
     "data": {
      "text/plain": [
       "138"
      ]
     },
     "execution_count": 54,
     "metadata": {},
     "output_type": "execute_result"
    }
   ],
   "source": [
    "year_count.pop('',0)"
   ]
  },
  {
   "cell_type": "code",
   "execution_count": 55,
   "metadata": {},
   "outputs": [],
   "source": [
    "year_ref = {}#number of references in each year\n",
    "for pair in year_dic:\n",
    "    year = year_dic[pair]\n",
    "    if pair in dic_count.keys() :\n",
    "        if year in year_ref.keys():\n",
    "            year_ref[year] += dic_count[pair]\n",
    "        else:\n",
    "            year_ref[year] = dic_count[pair]"
   ]
  },
  {
   "cell_type": "code",
   "execution_count": 56,
   "metadata": {},
   "outputs": [],
   "source": [
    "year_ref_avg={}#average number of references in each year\n",
    "for pair in year_count:\n",
    "    if pair in year_ref.keys():\n",
    "        year_ref_avg[pair] = year_ref[pair]/year_count[pair]"
   ]
  },
  {
   "cell_type": "markdown",
   "metadata": {},
   "source": [
    "When we consider citations, we have to find the number of citations in each year. "
   ]
  },
  {
   "cell_type": "code",
   "execution_count": 57,
   "metadata": {},
   "outputs": [
    {
     "data": {
      "text/plain": [
       "382"
      ]
     },
     "execution_count": 57,
     "metadata": {},
     "output_type": "execute_result"
    }
   ],
   "source": [
    "year_cit = {}#number of citations in each year\n",
    "for pair in year_dic:\n",
    "    key = year_dic[pair]\n",
    "    if pair in citations.keys():\n",
    "        if key in year_cit.keys():\n",
    "            year_cit[key] += citations[pair]\n",
    "        else:\n",
    "            year_cit[key] = citations[pair]\n",
    "year_cit.pop('', 0)"
   ]
  },
  {
   "cell_type": "code",
   "execution_count": 58,
   "metadata": {},
   "outputs": [],
   "source": [
    "year_cit_avg = {}#average number of citations in each year\n",
    "for pair in year_cit:\n",
    "    key = year_cit[pair]\n",
    "    year_cit_avg[pair] = year_cit[pair]/year_count[pair]"
   ]
  },
  {
   "cell_type": "code",
   "execution_count": 59,
   "metadata": {},
   "outputs": [],
   "source": [
    "int_year_ref = {}#convert keys to int\n",
    "for k, v in year_ref_avg.items():\n",
    "    if len(k) == 4:\n",
    "        int_year_ref[int(k)] = v\n",
    "    else:\n",
    "        int_year_ref[0] = v\n",
    "int_year_cit = {}#convert keys to int\n",
    "for k, v in year_cit_avg.items():\n",
    "    if len(k) == 4:\n",
    "        int_year_cit[int(k)] = v\n",
    "    else:\n",
    "        int_year_cit[0] = v"
   ]
  },
  {
   "cell_type": "code",
   "execution_count": 60,
   "metadata": {},
   "outputs": [
    {
     "data": {
      "text/plain": [
       "0"
      ]
     },
     "execution_count": 60,
     "metadata": {},
     "output_type": "execute_result"
    }
   ],
   "source": [
    "int_year_ref.pop(0, 0)\n",
    "int_year_cit.pop(0, 0)"
   ]
  },
  {
   "cell_type": "code",
   "execution_count": 61,
   "metadata": {},
   "outputs": [],
   "source": [
    "x1, y1=zip(*list(sorted(int_year_ref.items())))\n",
    "x2, y2=zip(*list(sorted(int_year_cit.items())))"
   ]
  },
  {
   "cell_type": "code",
   "execution_count": 62,
   "metadata": {},
   "outputs": [
    {
     "data": {
      "text/plain": [
       "<matplotlib.legend.Legend at 0x1c217eac8>"
      ]
     },
     "execution_count": 62,
     "metadata": {},
     "output_type": "execute_result"
    },
    {
     "data": {
      "image/png": "[encoded data removed]",
      "text/plain": [
       "<Figure size 432x288 with 1 Axes>"
      ]
     },
     "metadata": {},
     "output_type": "display_data"
    }
   ],
   "source": [
    "fig, ax = plt.subplots()\n",
    "ax.plot(x1, y1, label='References')\n",
    "ax.plot(x2, y2, label='Citations')\n",
    "ax.legend()"
   ]
  },
  {
   "cell_type": "markdown",
   "metadata": {},
   "source": [
    "From the plot, it's obvious that the number of references basically increases along the time. On the other hand, the number of citations doesn't fit for a monotonic trend. \n",
    "\n",
    "I would like to explain it that as the science and technology research boosting, the number of publications also increases quickly. So, for authors in 21th century, they have much more different existing publications for them to refer than authors in like '60s. \n",
    "\n",
    "While the curve for citations is another story, the peak around 1945 seems really weird in the first place. But it appears that there is not as many publications comparing to more recent years. So one publication with a high citation number would definitly increase the average citation number in that year. And that paper may be some breaking discovery. When time comes to the 21th century, there is a hugh drop for the average number of citations. The reason here is that new publications needs some time to make a difference. For example, when a new paper get published, other researchers need a few years to figure out what they can do based on the results made by this new paper. "
   ]
  }
 ],
 "metadata": {
  "kernelspec": {
   "display_name": "Python 3",
   "language": "python",
   "name": "python3"
  },
  "language_info": {
   "codemirror_mode": {
    "name": "ipython",
    "version": 3
   },
   "file_extension": ".py",
   "mimetype": "text/x-python",
   "name": "python",
   "nbconvert_exporter": "python",
   "pygments_lexer": "ipython3",
   "version": "3.6.5"
  }
 },
 "nbformat": 4,
 "nbformat_minor": 2
}
